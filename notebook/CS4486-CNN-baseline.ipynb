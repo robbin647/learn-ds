{
  "cells": [
    {
      "cell_type": "markdown",
      "metadata": {
        "id": "qE9JGRbaO_Ex"
      },
      "source": [
        "## Baseline CNN model\n",
        "### [Kaggle - Cats vs Dogs](https://www.kaggle.com/c/dogs-vs-cats/data)"
      ]
    },
    {
      "cell_type": "markdown",
      "metadata": {
        "id": "cbL8fLlHT8mX"
      },
      "source": [
        "This notebook references code by Kaggle user [angqx95](https://www.kaggle.com/code/angqx95/feature-extractor-fine-tuning-with-keras) on https://www.kaggle.com/code/angqx95/feature-extractor-fine-tuning-with-keras. "
      ]
    },
    {
      "cell_type": "markdown",
      "metadata": {
        "id": "nYw0NoYu8995"
      },
      "source": [
        "## Unzipping datasets"
      ]
    },
    {
      "cell_type": "code",
      "execution_count": 10,
      "metadata": {
        "id": "z_569N4f858R"
      },
      "outputs": [],
      "source": [
        "#Define some constants\n",
        "sample_path = \"./drive/MyDrive/Colab Notebooks/\"\n",
        "train_ds = \"train.zip\"\n",
        "\n",
        "batch_size = 32\n",
        "img_size = 256\n",
        "epochs = 5\n",
        "\n",
        "import numpy as np\n",
        "import pandas as pd\n",
        "import seaborn as sns\n",
        "import matplotlib.pyplot as plt\n",
        "\n",
        "import tensorflow as tf\n",
        "from tensorflow.keras.optimizers import RMSprop\n",
        "from tensorflow.keras import regularizers\n",
        "from tensorflow.keras.preprocessing.image import ImageDataGenerator, array_to_img, img_to_array, load_img\n",
        "from tensorflow.keras.layers import Conv2D, MaxPooling2D, Activation, Dropout, Flatten, Dense\n",
        "from tensorflow.keras.models import Model,Sequential\n",
        "\n",
        "from sklearn.model_selection import train_test_split\n"
      ]
    },
    {
      "cell_type": "code",
      "execution_count": 2,
      "metadata": {
        "id": "2VyRup0ROxHV"
      },
      "outputs": [],
      "source": [
        "import zipfile\n",
        "import os\n",
        "# extract ZIP into the folder\n",
        "with zipfile.ZipFile(os.path.join(sample_path, train_ds),\"r\") as zip_ref:\n",
        "  zip_ref.extractall(\"/tmp/dog_v_cats/\")"
      ]
    },
    {
      "cell_type": "code",
      "execution_count": 3,
      "metadata": {
        "colab": {
          "base_uri": "https://localhost:8080/"
        },
        "id": "wWQOMjm49C0p",
        "outputId": "593af0bc-0800-472e-86b2-760c97f9248e"
      },
      "outputs": [
        {
          "name": "stdout",
          "output_type": "stream",
          "text": [
            "There are  25000 training data samples\n"
          ]
        }
      ],
      "source": [
        "# below is to correct the dataset path \n",
        "train_ds_dir = \"/tmp/dog_v_cats/train/\"\n",
        "\n",
        "print(\"There are \", len(os.listdir('/tmp/dog_v_cats/train')), \"training data samples\")"
      ]
    },
    {
      "cell_type": "markdown",
      "metadata": {
        "id": "o9fi4mRjTx-i"
      },
      "source": [
        "## Data Formatting\n",
        "Labels: 1 for dog, 0 for cat."
      ]
    },
    {
      "cell_type": "code",
      "execution_count": 6,
      "metadata": {
        "colab": {
          "base_uri": "https://localhost:8080/"
        },
        "id": "IyY_wgfQTlO_",
        "outputId": "292c4696-2946-4eae-f78b-63ff701a1219"
      },
      "outputs": [
        {
          "name": "stdout",
          "output_type": "stream",
          "text": [
            "25000 images scanned at /tmp/dog_v_cats/train/\n"
          ]
        }
      ],
      "source": [
        "\n",
        "def generate_paths_n_labels(directory):\n",
        "  ground_truth_labels = []  # '0' or '1' for cat and dog, respectively\n",
        "  img_paths = []  # the relative path of this image file \n",
        "  for file in os.listdir(directory):\n",
        "    img_paths.append(file)\n",
        "    if (file.split('.')[0] == 'cat'):\n",
        "      ground_truth_labels.append('0')\n",
        "    else:\n",
        "      ground_truth_labels.append('1')\n",
        "  print(len(ground_truth_labels), \"images scanned at\", directory)\n",
        "  return img_paths, ground_truth_labels\n",
        "\n",
        "\n",
        "train_img_paths, train_y = generate_paths_n_labels(train_ds_dir)"
      ]
    },
    {
      "cell_type": "code",
      "execution_count": 8,
      "metadata": {
        "colab": {
          "base_uri": "https://localhost:8080/",
          "height": 417
        },
        "id": "pTsYtUxnW787",
        "outputId": "6e9c355b-11c6-4392-8b7b-8b10cb753e7a"
      },
      "outputs": [
        {
          "name": "stdout",
          "output_type": "stream",
          "text": [
            "        filename class_label\n",
            "0   cat.7725.jpg           0\n",
            "1   cat.1508.jpg           0\n",
            "2  cat.12040.jpg           0\n",
            "3   cat.4954.jpg           0\n",
            "4  dog.11784.jpg           1\n"
          ]
        },
        {
          "data": {
            "text/plain": [
              "Text(0.5, 1.0, 'Cats vs. Dogs Images Distribution')"
            ]
          },
          "execution_count": 8,
          "metadata": {},
          "output_type": "execute_result"
        },
        {
          "data": {
            "image/png": "[encoded data removed]",
            "text/plain": [
              "<Figure size 432x288 with 1 Axes>"
            ]
          },
          "metadata": {
            "needs_background": "light"
          },
          "output_type": "display_data"
        }
      ],
      "source": [
        "df = pd.DataFrame({'filename': train_img_paths,\n",
        "                  'class_label': train_y})\n",
        "print(df.head())\n",
        "\n",
        "# showing the data distribution in the training set\n",
        "sns.countplot(x='class_label',data=df).set_title(\"Cats vs. Dogs Images Distribution\")"
      ]
    },
    {
      "cell_type": "code",
      "execution_count": null,
      "metadata": {
        "id": "58xnD3CtXATs"
      },
      "outputs": [],
      "source": [
        "#### FYI #####\n",
        "# Showing one image \n",
        "img = load_img(os.path.join( train_ds_dir, df['filename'].iloc[0]))\n",
        "\n",
        "plt.figure(figsize=(8, 8))\n",
        "plt.imshow(img)\n",
        "##############"
      ]
    },
    {
      "cell_type": "markdown",
      "metadata": {
        "id": "0LAaN10gb_bW"
      },
      "source": [
        "## Train-Validation Split"
      ]
    },
    {
      "cell_type": "code",
      "execution_count": 15,
      "metadata": {
        "id": "BaaHbcIJxTxI"
      },
      "outputs": [],
      "source": [
        "def generate_img_batch(dataframe, ds_dir): \n",
        "  '''dataframe : contains 2 cols, <path to image file>, <label for the image>\n",
        "     ds_dir = directory path on which  <path to image file> is based\n",
        "  '''\n",
        "  data_genarator = ImageDataGenerator(    # data augmentation\n",
        "                rescale=1./255,  # rescale to [0, 1]\n",
        "                shear_range=0.1,\n",
        "                zoom_range=0.1,\n",
        "                horizontal_flip=True\n",
        "                # preprocessing_function = \n",
        "                )\n",
        "  train_data_gen = data_genarator.flow_from_dataframe(\n",
        "                dataframe,\n",
        "                directory=ds_dir,\n",
        "                x_col='filename',\n",
        "                y_col='class_label',\n",
        "                target_size=(img_size, img_size),\n",
        "                batch_size = batch_size,\n",
        "                class_mode='binary',\n",
        "                interpolation='nearest'\n",
        "                )\n",
        "\n",
        "  return train_data_gen\n"
      ]
    },
    {
      "cell_type": "code",
      "execution_count": 16,
      "metadata": {
        "colab": {
          "base_uri": "https://localhost:8080/"
        },
        "id": "lNBUnQHsXIub",
        "outputId": "907496ae-68d9-4693-d9d1-cfe5d4d0a9a7"
      },
      "outputs": [
        {
          "name": "stdout",
          "output_type": "stream",
          "text": [
            "Found 18750 validated image filenames belonging to 2 classes.\n",
            "Found 6250 validated image filenames belonging to 2 classes.\n",
            "size of training dataset: 18750\n",
            "size of validation dataset: 6250\n"
          ]
        }
      ],
      "source": [
        "# make data for validation set (accounts for 25% of all data)\n",
        "train_df, valid_df = train_test_split(df, test_size=0.25) \n",
        "\n",
        "train_gen = generate_img_batch(train_df, train_ds_dir) # training dataset generator\n",
        "valid_gen = generate_img_batch(valid_df, train_ds_dir) #  validation dataset generator\n",
        "\n",
        "print(\"size of training dataset: %d\" % (train_df.shape[0]))\n",
        "print(\"size of validation dataset: %d\" % (valid_df.shape[0]))"
      ]
    },
    {
      "cell_type": "markdown",
      "metadata": {
        "id": "0ZkgfyoU_Gbe"
      },
      "source": [
        "## Model training"
      ]
    },
    {
      "cell_type": "code",
      "execution_count": 22,
      "metadata": {
        "id": "JhW0rQxpfbjM"
      },
      "outputs": [],
      "source": [
        "from keras import backend as K\n",
        "K.clear_session()"
      ]
    },
    {
      "cell_type": "code",
      "execution_count": 30,
      "metadata": {
        "colab": {
          "base_uri": "https://localhost:8080/"
        },
        "id": "oriOmDBqoKPH",
        "outputId": "799aff09-c68d-4575-e44e-3e807db0994d"
      },
      "outputs": [
        {
          "name": "stdout",
          "output_type": "stream",
          "text": [
            "Model: \"sequential_5\"\n",
            "_________________________________________________________________\n",
            " Layer (type)                Output Shape              Param #   \n",
            "=================================================================\n",
            " conv2d_35 (Conv2D)          (None, 254, 254, 16)      448       \n",
            "                                                                 \n",
            " conv2d_36 (Conv2D)          (None, 252, 252, 16)      2320      \n",
            "                                                                 \n",
            " max_pooling2d_21 (MaxPoolin  (None, 84, 84, 16)       0         \n",
            " g2D)                                                            \n",
            "                                                                 \n",
            " conv2d_37 (Conv2D)          (None, 82, 82, 32)        4640      \n",
            "                                                                 \n",
            " conv2d_38 (Conv2D)          (None, 80, 80, 32)        9248      \n",
            "                                                                 \n",
            " max_pooling2d_22 (MaxPoolin  (None, 40, 40, 32)       0         \n",
            " g2D)                                                            \n",
            "                                                                 \n",
            " conv2d_39 (Conv2D)          (None, 38, 38, 64)        18496     \n",
            "                                                                 \n",
            " conv2d_40 (Conv2D)          (None, 36, 36, 64)        36928     \n",
            "                                                                 \n",
            " max_pooling2d_23 (MaxPoolin  (None, 18, 18, 64)       0         \n",
            " g2D)                                                            \n",
            "                                                                 \n",
            " conv2d_41 (Conv2D)          (None, 8, 8, 32)          18464     \n",
            "                                                                 \n",
            " max_pooling2d_24 (MaxPoolin  (None, 4, 4, 32)         0         \n",
            " g2D)                                                            \n",
            "                                                                 \n",
            " flatten_5 (Flatten)         (None, 512)               0         \n",
            "                                                                 \n",
            " dense_8 (Dense)             (None, 512)               262656    \n",
            "                                                                 \n",
            " dense_9 (Dense)             (None, 1)                 513       \n",
            "                                                                 \n",
            "=================================================================\n",
            "Total params: 353,713\n",
            "Trainable params: 353,713\n",
            "Non-trainable params: 0\n",
            "_________________________________________________________________\n"
          ]
        }
      ],
      "source": [
        "#model instantiation\n",
        "model=Sequential()\n",
        "model.add(Conv2D(16, (3,3), activation=\"relu\", input_shape=(img_size, img_size, 3)))\n",
        "model.add(Conv2D(16, (3,3), activation=\"relu\"))\n",
        "model.add(MaxPooling2D(pool_size = (3,3)))\n",
        "\n",
        "model.add(Conv2D(32, (3,3), activation=\"relu\"))\n",
        "model.add(Conv2D(32, (3,3), activation=\"relu\"))\n",
        "model.add(MaxPooling2D(pool_size = (2,2)))\n",
        "\n",
        "model.add(Conv2D(64, (3,3), activation=\"relu\"))\n",
        "model.add(Conv2D(64, (3,3), activation=\"relu\"))\n",
        "model.add(MaxPooling2D(pool_size = (2,2)))\n",
        "\n",
        "model.add(Conv2D(32, (3,3), strides=(2,2), activation=\"relu\"))\n",
        "model.add(MaxPooling2D(pool_size = (2,2)))\n",
        "\n",
        "model.add(Flatten())\n",
        "model.add(Dense(512, activation=\"relu\"))\n",
        "model.add(Dense(1, activation=\"sigmoid\"))\n",
        "\n",
        "model.compile(loss=\"binary_crossentropy\", \n",
        "         # optimizer=optimizers.RMSprop(lr=1e-4),\n",
        "         optimizer=RMSprop(learning_rate=1e-4),\n",
        "         metrics=[\"accuracy\"])\n",
        "\n",
        "model.summary()"
      ]
    },
    {
      "cell_type": "code",
      "execution_count": 31,
      "metadata": {
        "colab": {
          "base_uri": "https://localhost:8080/"
        },
        "id": "hADZwPcgqhBe",
        "outputId": "d856163b-a1c0-43ee-8bb9-b0dc55bc7699"
      },
      "outputs": [
        {
          "name": "stderr",
          "output_type": "stream",
          "text": [
            "/usr/local/lib/python3.7/dist-packages/ipykernel_launcher.py:3: UserWarning: `Model.fit_generator` is deprecated and will be removed in a future version. Please use `Model.fit`, which supports generators.\n",
            "  This is separate from the ipykernel package so we can avoid doing imports until\n"
          ]
        },
        {
          "name": "stdout",
          "output_type": "stream",
          "text": [
            "Epoch 1/5\n",
            "1172/1172 [==============================] - 373s 317ms/step - loss: 0.6586 - accuracy: 0.5988 - val_loss: 0.6246 - val_accuracy: 0.6480\n",
            "Epoch 2/5\n",
            "1172/1172 [==============================] - 371s 316ms/step - loss: 0.5941 - accuracy: 0.6793 - val_loss: 0.5589 - val_accuracy: 0.7141\n",
            "Epoch 3/5\n",
            "1172/1172 [==============================] - 368s 314ms/step - loss: 0.5370 - accuracy: 0.7301 - val_loss: 0.5710 - val_accuracy: 0.7016\n",
            "Epoch 4/5\n",
            "1172/1172 [==============================] - 366s 313ms/step - loss: 0.5035 - accuracy: 0.7535 - val_loss: 0.5528 - val_accuracy: 0.7218\n",
            "Epoch 5/5\n",
            "1172/1172 [==============================] - 367s 313ms/step - loss: 0.4774 - accuracy: 0.7731 - val_loss: 0.4638 - val_accuracy: 0.7806\n"
          ]
        },
        {
          "data": {
            "text/plain": [
              "<keras.callbacks.History at 0x7f0ec60af190>"
            ]
          },
          "execution_count": 31,
          "metadata": {},
          "output_type": "execute_result"
        }
      ],
      "source": [
        "model.fit_generator(train_gen,\n",
        "                    epochs=epochs,\n",
        "                    validation_data=valid_gen)"
      ]
    },
    {
      "cell_type": "code",
      "execution_count": 32,
      "metadata": {
        "colab": {
          "base_uri": "https://localhost:8080/"
        },
        "id": "iXIHmdOz2Baq",
        "outputId": "bd9ce227-455b-4191-8cc4-baf915f82c78"
      },
      "outputs": [
        {
          "name": "stderr",
          "output_type": "stream",
          "text": [
            "/usr/local/lib/python3.7/dist-packages/ipykernel_launcher.py:1: UserWarning: `Model.evaluate_generator` is deprecated and will be removed in a future version. Please use `Model.evaluate`, which supports generators.\n",
            "  \"\"\"Entry point for launching an IPython kernel.\n"
          ]
        },
        {
          "name": "stdout",
          "output_type": "stream",
          "text": [
            "Validation: accuracy = 0.785417  ;  loss = 0.464272 \n"
          ]
        }
      ],
      "source": [
        "loss, accuracy = model.evaluate_generator(valid_gen, valid_gen.samples//batch_size, workers=12)\n",
        "print(\"Validation: accuracy = %f  ;  loss = %f \" % (accuracy, loss))"
      ]
    },
    {
      "cell_type": "code",
      "execution_count": 33,
      "metadata": {
        "id": "UBIGHcle-U0_"
      },
      "outputs": [],
      "source": [
        "model.save(filepath=\"/content/drive/MyDrive/Colab Notebooks/CustomCNN_baseline.h5\",\n",
        "              include_optimizer=True)\n"
      ]
    },
    {
      "cell_type": "code",
      "execution_count": null,
      "metadata": {
        "id": "j7fktkhcVqD3"
      },
      "outputs": [],
      "source": []
    }
  ],
  "metadata": {
    "accelerator": "GPU",
    "colab": {
      "collapsed_sections": [],
      "name": "CS4486_Assignment3.ipynb",
      "provenance": []
    },
    "kernelspec": {
      "display_name": "Python 3",
      "name": "python3"
    },
    "language_info": {
      "name": "python"
    }
  },
  "nbformat": 4,
  "nbformat_minor": 0
}
