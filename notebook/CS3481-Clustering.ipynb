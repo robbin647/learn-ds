{
  "cells": [
    {
      "cell_type": "markdown",
      "metadata": {},
      "source": [
        "# CS3481 Assignment 3 - Hierarchical clustering & K-means"
      ]
    },
    {
      "cell_type": "markdown",
      "metadata": {},
      "source": [
        "This project uses the [UCI wine dataset](https://archive.ics.uci.edu/ml/datasets/Wine), which is imported using the built-in dataset of ```sklearn```. "
      ]
    },
    {
      "cell_type": "code",
      "execution_count": null,
      "metadata": {
        "id": "GQ8Mgb9BAA8w"
      },
      "outputs": [],
      "source": [
        "import numpy\n",
        "import sklearn\n",
        "from scipy.cluster.hierarchy import dendrogram, fcluster, single, complete, average, linkage\n",
        "from sklearn.datasets import load_wine\n",
        "import matplotlib.pyplot as plt "
      ]
    },
    {
      "cell_type": "code",
      "execution_count": null,
      "metadata": {
        "id": "xseeYX4fAuzw"
      },
      "outputs": [],
      "source": [
        "wine_dataset = load_wine()\n",
        "\n",
        "# print(wine_data.feature_names)\n",
        "\n",
        "_X = wine_dataset.data\n",
        "_y = wine_dataset.target\n",
        "print(_y.shape)\n",
        "print(_X.shape)"
      ]
    },
    {
      "cell_type": "markdown",
      "metadata": {
        "id": "wfCQZ6eR9g4u"
      },
      "source": [
        "## Data preprocessing\n",
        "(1) Outliers disposal  (not implemented)  \n",
        "(2) Normalization of some attributes - all attributes scaled to the same range"
      ]
    },
    {
      "cell_type": "code",
      "execution_count": null,
      "metadata": {
        "id": "u2kqButzHW1r"
      },
      "outputs": [],
      "source": [
        "from sklearn.preprocessing import MinMaxScaler\n",
        "X_scaler = MinMaxScaler(copy=True, feature_range=(10, 50))\n",
        "X_scaler.fit(_X)\n",
        "print(\"Per attribute max: \", X_scaler.data_max_)\n",
        "print(\"Per attribute min: \", X_scaler.data_min_)\n",
        "\n",
        "# X : normalized data matrix\n",
        "X = X_scaler.transform(_X)\n"
      ]
    },
    {
      "cell_type": "code",
      "execution_count": null,
      "metadata": {
        "id": "51lP4s9e--Nf"
      },
      "outputs": [],
      "source": [
        "# _X is the un-normalized version\n",
        "plt.scatter(x=_X[:, 0], y=_X[:, 12])\n",
        "plt.xlabel = \"13th attribute\"\n",
        "plt.ylabel(\"1st attribute\")\n",
        "plt.show()\n",
        "# X is the normalized version\n",
        "plt.scatter(x=X[:, 0], y=X[:,12])\n",
        "plt.xlabel = \"13th attribute (normalized)\"\n",
        "plt.ylabel = \"1st attribute (normalized)\"\n",
        "plt.show()"
      ]
    },
    {
      "cell_type": "markdown",
      "metadata": {
        "id": "aTKCQwGj3u66"
      },
      "source": [
        "## Task 1\n",
        "+ Try out three hierarchical clustering algorithms (single linkage, complete linkage, group average)\n",
        "+ Visualize the dendrograms of the three clustering algorithms and compare their structures"
      ]
    },
    {
      "cell_type": "code",
      "execution_count": null,
      "metadata": {
        "id": "DF9olt06Qipj"
      },
      "outputs": [],
      "source": [
        "# single linkage clustering\n",
        "Z_sig = linkage(X, method='single', metric='euclidean')\n",
        "# complete linkage clustering\n",
        "Z_cmp = linkage(X, method='complete', metric='euclidean')\n",
        "# group average clustering\n",
        "Z_avg = linkage(X, method='average', metric='euclidean')\n"
      ]
    },
    {
      "cell_type": "code",
      "execution_count": null,
      "metadata": {
        "id": "VG8mwLWFWBWG"
      },
      "outputs": [],
      "source": [
        "plt.figure(figsize = (25, 10))\n",
        "dendrogram(Z_sig)\n",
        "plt.show()\n",
        "\n",
        "plt.figure(figsize = (25, 10))\n",
        "dendrogram(Z_cmp)\n",
        "plt.show()\n",
        "\n",
        "plt.figure(figsize = (25, 10))\n",
        "dendrogram(Z_avg)\n",
        "plt.show()\n"
      ]
    },
    {
      "cell_type": "markdown",
      "metadata": {
        "id": "vB-2Q2k53x0h"
      },
      "source": [
        "## Task 2\n",
        "Analyze the patterns in the clustering distance sequence of all three algorithms. Specifically, look at the \"big gaps\" in those sequences, since they usually mean a breakthrough in the cluster structures. "
      ]
    },
    {
      "cell_type": "code",
      "execution_count": null,
      "metadata": {
        "id": "a2skeJjJWNzO"
      },
      "outputs": [],
      "source": [
        "# find the distance sequence of single linkage\n",
        "sig_dist = Z_sig[:, 2]\n",
        "print(sig_dist.shape)\n",
        "\n",
        "# visualize this sequence as a line chart \n",
        "fig, ax = plt.subplots()\n",
        "ax.plot(numpy.arange(sig_dist.shape[0]), sig_dist, linewidth=2.0)\n",
        "ax.set_title(\"Distance vs. no. of iteration for single linkage\")\n",
        "ax.set_xlabel(\"No. of iterations\")\n",
        "ax.set_ylabel(\"Distance\")\n",
        "plt.show()"
      ]
    },
    {
      "cell_type": "code",
      "execution_count": null,
      "metadata": {
        "id": "ZFzGeW9o8ZQm"
      },
      "outputs": [],
      "source": [
        "# inspect point X at index ~ 152\n",
        "print(numpy.column_stack((numpy.arange(167, 177)[:, numpy.newaxis], Z_sig[167:177, :])))"
      ]
    },
    {
      "cell_type": "code",
      "execution_count": null,
      "metadata": {
        "id": "GS_FvY1536qg"
      },
      "outputs": [],
      "source": [
        "# find the distance sequence of complete linkage\n",
        "cmp_dist = Z_cmp[:, 2]\n",
        "print(cmp_dist.shape)\n",
        "\n",
        "# visualize this sequence as a line chart \n",
        "fig, ax = plt.subplots()\n",
        "ax.plot(numpy.arange(cmp_dist.shape[0]), cmp_dist, linewidth=2.0)\n",
        "ax.set_title(\"Distance vs. no. of iteration for complete linkage\")\n",
        "ax.set_xlabel(\"No. of iterations\")\n",
        "ax.set_ylabel(\"Distance\")\n",
        "plt.show()"
      ]
    },
    {
      "cell_type": "code",
      "execution_count": null,
      "metadata": {
        "id": "qtjwgN6dFE3c"
      },
      "outputs": [],
      "source": [
        "# inspect point X at index ~ 152\n",
        "print(numpy.column_stack((numpy.arange(160, 177)[:, numpy.newaxis], Z_cmp[160:177, :])))"
      ]
    },
    {
      "cell_type": "code",
      "execution_count": null,
      "metadata": {
        "id": "VYnUwKUW7IWV"
      },
      "outputs": [],
      "source": [
        "# find the distance sequence of group average\n",
        "avg_dist = Z_avg[:, 2]\n",
        "print(avg_dist.shape)\n",
        "\n",
        "# visualize this sequence as a line chart \n",
        "fig, ax = plt.subplots()\n",
        "ax.plot(numpy.arange(avg_dist.shape[0]), avg_dist, linewidth=2.0)\n",
        "ax.set_title(\"Distance vs. no. of iteration for group average\")\n",
        "ax.set_xlabel(\"No. of iterations\")\n",
        "ax.set_ylabel(\"Distance\")\n",
        "plt.show()"
      ]
    },
    {
      "cell_type": "code",
      "execution_count": null,
      "metadata": {
        "id": "i6r1bySmGil2"
      },
      "outputs": [],
      "source": [
        "# inspect point X at index ~ 152\n",
        "print(numpy.column_stack((numpy.arange(167, 177)[:, numpy.newaxis], Z_avg[167:177, :])))\n",
        "# this index gets involved in merging\n",
        "print(\"avg index 116:\", Z_avg[116, :])"
      ]
    },
    {
      "cell_type": "markdown",
      "metadata": {
        "id": "8xYdN8NQKQ9b"
      },
      "source": [
        "## Task 3\n",
        "As we already know the number of class labels is 3 in the wine dataset, we want to make a comparison between the three hierarchical clustering algorithms (max. number of cluster = 3) and the K-means algorithm (K=3), in terms of how close their clustering schemes are to the ground truth.  "
      ]
    },
    {
      "cell_type": "code",
      "execution_count": null,
      "metadata": {
        "id": "Ljxbq2fN7oDm"
      },
      "outputs": [],
      "source": [
        "# single linkage\n",
        "sig_clusters_sol = fcluster(Z_sig, t=3, criterion='maxclust')\n",
        "# complete linkage\n",
        "cmp_clusters_sol = fcluster(Z_cmp, t=3, criterion='maxclust')\n",
        "# group average \n",
        "avg_clusters_sol = fcluster(Z_avg, t=3, criterion='maxclust')\n"
      ]
    },
    {
      "cell_type": "code",
      "execution_count": null,
      "metadata": {
        "id": "_rfiy_eOHewB"
      },
      "outputs": [],
      "source": [
        "# K-means with K=3\n",
        "from sklearn.cluster import KMeans\n",
        "kmeans = KMeans(n_clusters=3, random_state=2323).fit(X)"
      ]
    },
    {
      "cell_type": "code",
      "execution_count": null,
      "metadata": {
        "id": "C3T7RJDIxEug"
      },
      "outputs": [],
      "source": [
        "# kmeans.labels_.shape\n",
        "print(sig_clusters_sol[170:178])\n",
        "print(cmp_clusters_sol[170:178])\n",
        "print(avg_clusters_sol[170:178])\n",
        "print(kmeans.labels_[170:178])"
      ]
    },
    {
      "cell_type": "code",
      "execution_count": null,
      "metadata": {
        "id": "l4lcSxu850jc"
      },
      "outputs": [],
      "source": [
        "numpy.min(sig_clusters_sol)"
      ]
    },
    {
      "cell_type": "markdown",
      "metadata": {
        "id": "FCAXXJSU0OyJ"
      },
      "source": [
        "A utility function to summarize the distribution of three ground truth classes in each of the clusters which are generated by the algorithm.\n",
        "\n",
        "Output data structure of ```count_classes```:  \n",
        "\n",
        "```\n",
        "[\n",
        "  [<count of class1>, <count of class 2>, <count of class 3>],  <--- for predicted class 0\n",
        "  [<count of class1>, <count of class 2>, <count of class 3>],  <--- for predicted class 1\n",
        "  ...\n",
        "]\n",
        "```"
      ]
    },
    {
      "cell_type": "code",
      "execution_count": null,
      "metadata": {
        "id": "_jOa8LxxxKXs"
      },
      "outputs": [],
      "source": [
        "def count_classes(y, cluster_sol, k=0):\n",
        "  '''X: {ndarray} the original data matrix\n",
        "     y: {ndarray} the ground truth labels\n",
        "     cluster_sol: {ndarray} the clustering result\n",
        "     k: {int}  how many kinds of clusters in cluster_sol\n",
        "     Note: assume by default only 3 ground-truth classes\n",
        "  '''\n",
        "  # get total # of cluster labels (num_pred_clust) from cluster_sol\n",
        "  num_pred_clust = numpy.max(cluster_sol) - numpy.min(cluster_sol) + 1\n",
        "  print(\"# of predicted clusters: %d\" % num_pred_clust)\n",
        "\n",
        "  # if the labelling does not start with 0, then shift it to 0\n",
        "  if (numpy.min(cluster_sol) > 0): \n",
        "    cluster_sol = cluster_sol - numpy.min(cluster_sol)\n",
        "\n",
        "  # initialize a 2D nparray shape:(num_pred_clust, 3) with # of rows = total # of clusters \n",
        "  bin = numpy.zeros((num_pred_clust, 3))\n",
        "\n",
        "  # for each row, there are three columns, corresponds to count of ground truth classes\n",
        "  # <count of class 1>, <count of class 2>, <count of class 3>\n",
        "\n",
        "  # iterate through all data objects \n",
        "  # for each object:\n",
        "  # (1) get its predicted cluster label\n",
        "  # (2) get its ground truth class label\n",
        "  # (3) add 1 to 2D matrix[predicted cluster label, ground truth class label]\n",
        "  for i in range(cluster_sol.shape[0]):\n",
        "    pred_label = cluster_sol[i]\n",
        "    gnd_truth_label = y[i]\n",
        "    bin[pred_label, gnd_truth_label] +=1\n",
        "  # outside the loop: return the 2D matrix\n",
        "  return bin\n",
        "\n",
        "def calc_impurity(bin):\n",
        "  '''\n",
        "     bin: the 2D matrix as output of count_classes()\n",
        "     @return {ndarray} of shape (cnt_matrix.shape[0],), in which each row is the\n",
        "       impurity measure of that particular predicted class\n",
        "  '''\n",
        "  print(bin)\n",
        "  impurity_array = numpy.zeros(bin.shape[0], dtype=numpy.float32)\n",
        "  for i in range(bin.shape[0]): # iterate through each row\n",
        "    sub_total = numpy.sum(bin, axis=1)[i]\n",
        "    entropy = 0\n",
        "    for j in range(bin.shape[1]): # iterate though columns\n",
        "      freq = bin[i, j] * 1.0 / sub_total \n",
        "      if freq == 0: # in entropy, log(0) is 0  \n",
        "        pass\n",
        "      else:\n",
        "        entropy += (-1.0) * freq * numpy.log2(freq)\n",
        "    impurity_array[i] = entropy\n",
        "  return impurity_array "
      ]
    },
    {
      "cell_type": "code",
      "execution_count": null,
      "metadata": {
        "id": "mYQHO8cx6iZS"
      },
      "outputs": [],
      "source": [
        "print(calc_impurity(count_classes(_y, sig_clusters_sol)))"
      ]
    },
    {
      "cell_type": "code",
      "execution_count": null,
      "metadata": {
        "id": "j_VRJWrt64r_"
      },
      "outputs": [],
      "source": [
        "print(calc_impurity(count_classes(_y, cmp_clusters_sol)))"
      ]
    },
    {
      "cell_type": "code",
      "execution_count": null,
      "metadata": {
        "id": "EU764U9l7uHX"
      },
      "outputs": [],
      "source": [
        "print(calc_impurity(count_classes(_y, avg_clusters_sol)))"
      ]
    },
    {
      "cell_type": "code",
      "execution_count": null,
      "metadata": {
        "id": "3hOiP40_7w4u"
      },
      "outputs": [],
      "source": [
        "print(calc_impurity(count_classes(_y, kmeans.labels_)))"
      ]
    },
    {
      "cell_type": "markdown",
      "metadata": {
        "id": "Yz9saQ4OJfSA"
      },
      "source": [
        "## Task 4\n",
        "\n",
        "Perform feature subset selection. Report if this can make the cluster structure more \"balanced\"."
      ]
    },
    {
      "cell_type": "code",
      "execution_count": null,
      "metadata": {
        "id": "JEYRtJ9b8BY8"
      },
      "outputs": [],
      "source": [
        "len(wine_dataset.feature_names)"
      ]
    },
    {
      "cell_type": "markdown",
      "metadata": {},
      "source": [
        "Try only select 9/6/3 features out of 13 features."
      ]
    },
    {
      "cell_type": "code",
      "execution_count": null,
      "metadata": {
        "id": "QLQMDrc0Kxyy"
      },
      "outputs": [],
      "source": [
        "from sklearn.utils.random import sample_without_replacement\n",
        "# when n_samples = 9\n",
        "# attr_list = sample_without_replacement(n_population=13, n_samples=9)\n",
        "# attr_list.sort()\n",
        "\n",
        "# whn n_samples = 6\n",
        "# attr_list = sample_without_replacement(n_population=13, n_samples=6)\n",
        "# attr_list.sort()\n",
        "# when n_samples = 3\n",
        "attr_list = sample_without_replacement(n_population=13, n_samples=3)\n",
        "attr_list.sort()"
      ]
    },
    {
      "cell_type": "markdown",
      "metadata": {},
      "source": [
        "Visualize cluster structures through dendrograms."
      ]
    },
    {
      "cell_type": "code",
      "execution_count": null,
      "metadata": {
        "id": "HCy7p79nLR4A"
      },
      "outputs": [],
      "source": [
        "X_sampled = X[:, attr_list[0]]\n",
        "for i in range(1, 3):\n",
        "  X_sampled = numpy.column_stack((X_sampled, X[:, attr_list[i]]))\n",
        "print(X_sampled.shape)\n",
        "# single linkage clustering\n",
        "Z_sampled_sig = linkage(X_sampled, method='single', metric='euclidean')\n",
        "# # complete linkage clustering\n",
        "Z_sampled_cmp = linkage(X_sampled, method='complete', metric='euclidean')\n",
        " # group average clustering\n",
        "Z_sampled_avg = linkage(X_sampled, method='average', metric='euclidean')\n",
        "\n",
        "plt.figure(figsize = (25, 10))\n",
        "dendrogram(Z_sampled_sig)\n",
        "plt.show()\n",
        "\n",
        "plt.figure(figsize = (25, 10))\n",
        "dendrogram(Z_sampled_cmp)\n",
        "plt.show()\n",
        "\n",
        "plt.figure(figsize = (25, 10))\n",
        "dendrogram(Z_sampled_avg)\n",
        "plt.show()\n"
      ]
    },
    {
      "cell_type": "code",
      "execution_count": null,
      "metadata": {
        "id": "jexR_7w7L5hc"
      },
      "outputs": [],
      "source": []
    }
  ],
  "metadata": {
    "colab": {
      "collapsed_sections": [],
      "name": "cs3481_assign3.ipynb",
      "provenance": []
    },
    "kernelspec": {
      "display_name": "Python 3",
      "name": "python3"
    },
    "language_info": {
      "name": "python"
    }
  },
  "nbformat": 4,
  "nbformat_minor": 0
}
