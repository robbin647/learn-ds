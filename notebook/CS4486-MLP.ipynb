{
  "cells": [
    {
      "cell_type": "markdown",
      "metadata": {
        "id": "kwuwlPcHYRqJ"
      },
      "source": [
        "## CS4486 Assignment 2\n",
        "### Chicago Taxi Dataset"
      ]
    },
    {
      "cell_type": "code",
      "execution_count": 24,
      "metadata": {
        "id": "5lrVi7iNYRqN"
      },
      "outputs": [],
      "source": [
        "import numpy as np\n",
        "import torch \n",
        "import torchvision\n",
        "import torch.nn as nn"
      ]
    },
    {
      "cell_type": "markdown",
      "metadata": {
        "id": "-85bo6ArYRqV"
      },
      "source": [
        "## Using Multi-layer Perceptron with 6 hidden linear layers\n",
        "\n",
        "- With feature reduction: only 9 features were chosen out of 49 features. See [Feature Reduction](###Feature-Reduction) section below."
      ]
    },
    {
      "cell_type": "code",
      "execution_count": 25,
      "metadata": {
        "id": "lbONa5CDiwyI"
      },
      "outputs": [],
      "source": [
        "# load full train dataset\n",
        "data = np.load(\"train.npz\")"
      ]
    },
    {
      "cell_type": "code",
      "execution_count": 26,
      "metadata": {
        "id": "qoQz5fsgYRqV"
      },
      "outputs": [],
      "source": [
        "# extract feature arrays\n",
        "x = data['x']\n",
        "y = data['y']\n",
        "locations = data['locations']\n",
        "times= data['times']"
      ]
    },
    {
      "cell_type": "code",
      "execution_count": null,
      "metadata": {
        "id": "HLnKakevYRqV"
      },
      "outputs": [],
      "source": [
        "device = torch.device('cuda' if torch.cuda.is_available() else 'cpu')"
      ]
    },
    {
      "cell_type": "code",
      "execution_count": 28,
      "metadata": {
        "id": "L2R2MVzqYRqW"
      },
      "outputs": [],
      "source": [
        "\n",
        "train_dataset = np.zeros((len(y), (3*3*8+2+1)))\n",
        "for num_instance in range(len(y)):\n",
        "  for time_index in range(8):\n",
        "    for nbr_row_index in range(3):\n",
        "      for nbr_col_index in range(3):\n",
        "        train_dataset[num_instance][time_index*9 + nbr_row_index*3 + nbr_col_index] = x[num_instance][time_index][(2+nbr_row_index)*7 + (nbr_col_index+3)]\n",
        "  train_dataset[num_instance][8*9] = locations[num_instance][0]\n",
        "  train_dataset[num_instance][8*9+1] = locations[num_instance][1]\n",
        "  train_dataset[num_instance][8*9+2] = times[num_instance]\n",
        "#train_dataset = np.array([i, x[i].ravel()+[locations[i][0], locations[i][1], times[i]]] for i in range(len(y)))\n"
      ]
    },
    {
      "cell_type": "markdown",
      "metadata": {
        "id": "2wl1iIp24aBt"
      },
      "source": [
        "### Feature Reduction\n",
        "\n",
        "Feature reduction happens in that only data matrix at hour index 0, 1, 2, ..., 7 (i.e. for the i-th row x[i][0], x[i][1], x[i][2], ... x[i][7]), where each matrix **D** has items within **D**(2, 2) - **D**(4, 4) taken out and concatenated in the aforementioned order.  \n",
        "\n",
        "```\n",
        "Legend:    O - not taken\n",
        "           X - taken\n",
        "           \n",
        "    0 1 2 3 4 5 6    \n",
        "    _ _ _ _ _ _ _  \n",
        "0 | O O O O O O O\n",
        "1 | O O O O O O O\n",
        "2 | O O X X X O O\n",
        "3 | O O X X X O O\n",
        "4 | O O X X X O O\n",
        "5 | O O O O O O O\n",
        "6 | O O O O O O O\n",
        "```  \n",
        "\n",
        "### Structure of ```train_dataset```  \n",
        "Inside ```train_dataset```, each (num_instance)-th entry is a flattened 1D array consits of below:  \n",
        "(1) An 1D array that is the concatenation of all 8 matrices described in the [Feature Reduction](###Feature-Reduction) section above.  \n",
        "(2) the x, y coordinates of the (num_instance)-th entry locations[]   \n",
        "(3) value of the (num_instance)-th entry in the times[] array\n",
        "\n",
        "Therefore in total the dimension of train_dataset is Row=len(y) and Coloumn= [8(hours) * 9(3*3 matrix of neighbor for each hour) + 2(location-x, location-y) +1(times)] = 75."
      ]
    },
    {
      "cell_type": "code",
      "execution_count": 29,
      "metadata": {
        "colab": {
          "base_uri": "https://localhost:8080/"
        },
        "id": "iTUJxnr6zMis",
        "outputId": "598f1696-08e3-41b4-9141-c04c288628dd"
      },
      "outputs": [
        {
          "name": "stdout",
          "output_type": "stream",
          "text": [
            "(72000, 75)\n"
          ]
        }
      ],
      "source": [
        "print(train_dataset.shape)"
      ]
    },
    {
      "cell_type": "code",
      "execution_count": 30,
      "metadata": {
        "id": "dJ-HeSVtzgaB"
      },
      "outputs": [],
      "source": [
        "# convert numpy array to tensor\n",
        "x_tensor = torch.Tensor(train_dataset)\n",
        "y_tensor = torch.Tensor(y)\n",
        "\n",
        "# set up loader for training dataset\n",
        "train_dataset_tensor  = torch.utils.data.TensorDataset(x_tensor, y_tensor)\n",
        "train_loader = torch.utils.data.DataLoader(train_dataset_tensor, batch_size=100, shuffle=True)"
      ]
    },
    {
      "cell_type": "markdown",
      "metadata": {
        "id": "iEw_tb1p7C8D"
      },
      "source": [
        "\n",
        "```input_size``` = 75 is the size of flattened array starting from ndim(1)  \n",
        "Number of output units: ```num_classes``` = **1**  since we only want one regression value  "
      ]
    },
    {
      "cell_type": "code",
      "execution_count": 31,
      "metadata": {
        "id": "YwIzcAKc6wPJ"
      },
      "outputs": [],
      "source": [
        "# define constants \n",
        "input_size = 75 # 75 input node\n",
        "layer1_hidden_size = 38\n",
        "layer2_hidden_size = 19\n",
        "layer3_hidden_size = 10\n",
        "layer4_hidden_size = 5\n",
        "layer5_hidden_size = 3\n",
        "layer6_hidden_size = 2\n",
        "hidden_size = [layer1_hidden_size, layer2_hidden_size, layer3_hidden_size, layer4_hidden_size, layer5_hidden_size, layer6_hidden_size]\n",
        "output_size = 1\n",
        "learning_rate = 0.001\n"
      ]
    },
    {
      "cell_type": "code",
      "execution_count": 32,
      "metadata": {
        "id": "V7R5W1Ph6mdt"
      },
      "outputs": [],
      "source": [
        "# NN with one 6 layer and Linear transformation\n",
        "class NeuralNet(nn.Module):\n",
        "  # hidden_size: list of hidden layer size\n",
        "    def __init__(self, input_size, hidden_size, num_classes):\n",
        "        super(NeuralNet, self).__init__()\n",
        "        layer1_hidden_size = hidden_size[0]\n",
        "        layer2_hidden_size = hidden_size[1]\n",
        "        layer3_hidden_size = hidden_size[2]\n",
        "        layer4_hidden_size = hidden_size[3]\n",
        "        layer5_hidden_size = hidden_size[4]\n",
        "        layer6_hidden_size = hidden_size[5]\n",
        "        self.fc1 = nn.Linear(input_size, layer1_hidden_size) \n",
        "        self.fc2 = nn.Linear(layer1_hidden_size, layer2_hidden_size) \n",
        "        self.fc3 = nn.Linear(layer2_hidden_size, layer3_hidden_size) \n",
        "        self.fc4 = nn.Linear(layer3_hidden_size, layer4_hidden_size) \n",
        "        self.fc5 = nn.Linear(layer4_hidden_size, layer5_hidden_size) \n",
        "        self.fc6 = nn.Linear(layer5_hidden_size, layer6_hidden_size) \n",
        "        self.fc7 = nn.Linear(layer6_hidden_size, output_size)\n",
        "        self.relu = nn.ReLU()\n",
        "         \n",
        "    \n",
        "    def forward(self, x):\n",
        "        out = self.fc1(x)\n",
        "        out = self.relu(out)\n",
        "        out = self.fc2(out)\n",
        "        out = self.relu(out)\n",
        "        out = self.fc3(out)\n",
        "        out = self.relu(out)\n",
        "        out = self.fc4(out)\n",
        "        out = self.relu(out)\n",
        "        out = self.fc5(out)\n",
        "        out = self.relu(out)\n",
        "        out = self.fc6(out)\n",
        "        out = self.relu(out)\n",
        "        out = self.fc7(out)\n",
        "        return out"
      ]
    },
    {
      "cell_type": "code",
      "execution_count": 41,
      "metadata": {
        "id": "wTZ41j8_SAYz"
      },
      "outputs": [],
      "source": [
        "model = NeuralNet(input_size, hidden_size, output_size).to(device)"
      ]
    },
    {
      "cell_type": "code",
      "execution_count": 42,
      "metadata": {
        "id": "LxiltU8kT-NB"
      },
      "outputs": [],
      "source": [
        "# the accuracy score\n",
        "criterion = nn.MSELoss()\n",
        "optimizer = torch.optim.Adam(model.parameters(), lr=learning_rate)  "
      ]
    },
    {
      "cell_type": "code",
      "execution_count": 43,
      "metadata": {
        "colab": {
          "base_uri": "https://localhost:8080/"
        },
        "id": "O1DkJZtyV8rj",
        "outputId": "1f58a089-6f70-4142-a86a-994b47f60c5c"
      },
      "outputs": [
        {
          "name": "stdout",
          "output_type": "stream",
          "text": [
            "==============================TRAINING==============================\n",
            "Epoch [ 1/5 ], Step [ 120/720 ], Loss is 127.6679\n",
            "Epoch [ 1/5 ], Step [ 240/720 ], Loss is 131.4054\n",
            "Epoch [ 1/5 ], Step [ 360/720 ], Loss is 252.4255\n",
            "Epoch [ 1/5 ], Step [ 480/720 ], Loss is 299.7838\n",
            "Epoch [ 1/5 ], Step [ 600/720 ], Loss is 193.9176\n",
            "Epoch [ 1/5 ], Step [ 720/720 ], Loss is 187.1312\n",
            "Epoch [ 2/5 ], Step [ 120/720 ], Loss is 179.5204\n",
            "Epoch [ 2/5 ], Step [ 240/720 ], Loss is 275.6231\n",
            "Epoch [ 2/5 ], Step [ 360/720 ], Loss is 83.7387\n",
            "Epoch [ 2/5 ], Step [ 480/720 ], Loss is 178.8599\n",
            "Epoch [ 2/5 ], Step [ 600/720 ], Loss is 230.1450\n",
            "Epoch [ 2/5 ], Step [ 720/720 ], Loss is 131.8691\n",
            "Epoch [ 3/5 ], Step [ 120/720 ], Loss is 132.7662\n",
            "Epoch [ 3/5 ], Step [ 240/720 ], Loss is 190.3132\n",
            "Epoch [ 3/5 ], Step [ 360/720 ], Loss is 297.9509\n",
            "Epoch [ 3/5 ], Step [ 480/720 ], Loss is 146.3314\n",
            "Epoch [ 3/5 ], Step [ 600/720 ], Loss is 58.1541\n",
            "Epoch [ 3/5 ], Step [ 720/720 ], Loss is 116.6117\n",
            "Epoch [ 4/5 ], Step [ 120/720 ], Loss is 176.9411\n",
            "Epoch [ 4/5 ], Step [ 240/720 ], Loss is 123.6757\n",
            "Epoch [ 4/5 ], Step [ 360/720 ], Loss is 109.7278\n",
            "Epoch [ 4/5 ], Step [ 480/720 ], Loss is 62.6643\n",
            "Epoch [ 4/5 ], Step [ 600/720 ], Loss is 81.5561\n",
            "Epoch [ 4/5 ], Step [ 720/720 ], Loss is 33.5329\n",
            "Epoch [ 5/5 ], Step [ 120/720 ], Loss is 124.4878\n",
            "Epoch [ 5/5 ], Step [ 240/720 ], Loss is 35.2022\n",
            "Epoch [ 5/5 ], Step [ 360/720 ], Loss is 44.3700\n",
            "Epoch [ 5/5 ], Step [ 480/720 ], Loss is 97.6587\n",
            "Epoch [ 5/5 ], Step [ 600/720 ], Loss is 64.6681\n",
            "Epoch [ 5/5 ], Step [ 720/720 ], Loss is 105.7541\n"
          ]
        }
      ],
      "source": [
        "print(\"=\"*30 + \"TRAINING\" + \"=\"*30)\n",
        "total_step = len(train_loader)\n",
        "num_epochs = 5\n",
        "for epoch in range(num_epochs):\n",
        "  for i, (x_data, y_data) in enumerate(train_loader):\n",
        "    x_data = x_data.to(device)\n",
        "    y_data = y_data.to(device)\n",
        "\n",
        "    # forward pass\n",
        "    outputs = model(x_data)\n",
        "    loss = criterion(outputs, y_data)\n",
        "\n",
        "    # Backward and optimize\n",
        "    optimizer.zero_grad()\n",
        "    loss.backward()\n",
        "    optimizer.step()\n",
        "\n",
        "    if (i+1) % 120 == 0:\n",
        "      print('Epoch [ %d/%d ], Step [ %d/%d ], Loss is %.4f' %\n",
        "            (epoch + 1, num_epochs, i+1, total_step, loss.item()))"
      ]
    },
    {
      "cell_type": "code",
      "execution_count": 38,
      "metadata": {
        "colab": {
          "base_uri": "https://localhost:8080/"
        },
        "id": "X2nLfQCr8ROH",
        "outputId": "3d6ed6fb-ce40-42a2-f35f-38eb9f329269"
      },
      "outputs": [
        {
          "name": "stdout",
          "output_type": "stream",
          "text": [
            "==============================Load the val set==============================\n",
            "val_dataset shape: (18000, 75)\n"
          ]
        }
      ],
      "source": [
        "print(\"=\"*30 + \"Load the val set\" + \"=\"*30)\n",
        "# Load the val set\n",
        "val_data = np.load('val.npz')\n",
        "val_x = val_data['x']\n",
        "val_y = val_data['y']\n",
        "val_times = val_data['times']\n",
        "val_locations = val_data['locations']\n",
        "\n",
        "# self-brewed val dataset\n",
        "val_dataset = np.zeros((len(val_y), (3*3*8+2+1)))\n",
        "for num_instance in range(len(val_y)):\n",
        "  for time_index in range(8):\n",
        "    for nbr_row_index in range(3):\n",
        "      for nbr_col_index in range(3):\n",
        "        val_dataset[num_instance][time_index*9 + nbr_row_index*3 + nbr_col_index] = val_x[num_instance][time_index][(2+nbr_row_index)*7 + (nbr_col_index+3)]\n",
        "  val_dataset[num_instance][8*9] = val_locations[num_instance][0]\n",
        "  val_dataset[num_instance][8*9+1] = val_locations[num_instance][1]\n",
        "  val_dataset[num_instance][8*9+2] = val_times[num_instance]\n",
        "\n",
        "print(\"val_dataset shape:\",val_dataset.shape)\n"
      ]
    },
    {
      "cell_type": "code",
      "execution_count": 39,
      "metadata": {
        "colab": {
          "base_uri": "https://localhost:8080/"
        },
        "id": "AIVPCTx_99pE",
        "outputId": "9f110278-9854-4529-e540-55513fc77b1c"
      },
      "outputs": [
        {
          "name": "stdout",
          "output_type": "stream",
          "text": [
            "==============================create validation set loader==============================\n"
          ]
        }
      ],
      "source": [
        "print(\"=\"*30 + \"create validation set loader\" + \"=\"*30)\n",
        "\n",
        "# create validation set loader\n",
        "val_x_tensor = torch.Tensor(val_dataset)\n",
        "val_y_tensor = torch.Tensor(val_y)\n",
        "\n",
        "val_dataset_tensor  = torch.utils.data.TensorDataset(val_x_tensor, val_y_tensor)\n",
        "val_loader = torch.utils.data.DataLoader(val_dataset_tensor, batch_size=100, shuffle=False)"
      ]
    },
    {
      "cell_type": "code",
      "execution_count": 44,
      "metadata": {
        "colab": {
          "base_uri": "https://localhost:8080/"
        },
        "id": "4d3x9uHT1rTy",
        "outputId": "5b9008e1-276d-4199-a51e-d2d0678da8c6"
      },
      "outputs": [
        {
          "name": "stdout",
          "output_type": "stream",
          "text": [
            "==============================Validation set==============================\n",
            "Accuracy score: 0.2333\n"
          ]
        }
      ],
      "source": [
        "print(\"=\"*30 + \"Validation set\" + \"=\"*30)\n",
        "\n",
        "# Get accuracy score on validation set\n",
        "# Turn off gradient because we don't need to update the model\n",
        "with torch.no_grad():\n",
        "  correct = 0\n",
        "  total = 0\n",
        "  for x_data, y_data in val_loader:\n",
        "    x_data = x_data.to(device)\n",
        "    y_data = y_data.to(device)\n",
        "    outputs = model(x_data)\n",
        "    total += x_data.size(0)\n",
        "    correct += 1 if np.isclose(outputs, y_data, atol=1e-01)[0] == True else 0\n",
        "  \n",
        "  print('Accuracy score: %.4f' % (100.0 * correct / total,))"
      ]
    }
  ],
  "metadata": {
    "accelerator": "GPU",
    "colab": {
      "collapsed_sections": [],
      "name": "Assign2.ipynb",
      "provenance": []
    },
    "kernelspec": {
      "display_name": "Python 3",
      "language": "python",
      "name": "python3"
    },
    "language_info": {
      "codemirror_mode": {
        "name": "ipython",
        "version": 3
      },
      "file_extension": ".py",
      "mimetype": "text/x-python",
      "name": "python",
      "nbconvert_exporter": "python",
      "pygments_lexer": "ipython3",
      "version": "3.8.5"
    }
  },
  "nbformat": 4,
  "nbformat_minor": 0
}
